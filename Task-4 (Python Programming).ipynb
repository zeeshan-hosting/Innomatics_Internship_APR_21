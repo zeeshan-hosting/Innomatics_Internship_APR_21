{
 "cells": [
  {
   "cell_type": "code",
   "execution_count": 1,
   "id": "instructional-latter",
   "metadata": {},
   "outputs": [
    {
     "name": "stdout",
     "output_type": "stream",
     "text": [
      "HackerRank.com presents \"Pythonist 2\".\n",
      "hACKERrANK.COM PRESENTS \"pYTHONIST 2\".\n"
     ]
    }
   ],
   "source": [
    "#question 1\n",
    "\n",
    "def change(c):\n",
    "    if str.islower(c):\n",
    "        return str.upper(c)\n",
    "    else:\n",
    "        return str.lower(c)\n",
    "    \n",
    "def swap_case(s):\n",
    "    return ''.join(map(change,s))\n",
    "if __name__ == '__main__':\n",
    "    s = input()\n",
    "    result = swap_case(s)\n",
    "    print(result)"
   ]
  },
  {
   "cell_type": "code",
   "execution_count": 2,
   "id": "liquid-appointment",
   "metadata": {},
   "outputs": [
    {
     "name": "stdout",
     "output_type": "stream",
     "text": [
      "this is a string   \n",
      "this-is-a-string---\n"
     ]
    }
   ],
   "source": [
    "# question 2\n",
    "\n",
    "def split_and_join(line):\n",
    "    # write your code here\n",
    "    x=line.split(\" \")\n",
    "    x='-'.join(x)\n",
    "    return x\n",
    "\n",
    "if __name__ == '__main__':\n",
    "    line = input()\n",
    "    result = split_and_join(line)\n",
    "    print(result)"
   ]
  },
  {
   "cell_type": "code",
   "execution_count": 3,
   "id": "ruled-reliance",
   "metadata": {},
   "outputs": [
    {
     "name": "stdout",
     "output_type": "stream",
     "text": [
      "Ross\n",
      "Taylor\n",
      "Hello Ross Taylor! You just delved into python.\n"
     ]
    }
   ],
   "source": [
    "# question 3\n",
    "\n",
    "def print_full_name(first, last):\n",
    "    # Write your code here\n",
    "    print(\"Hello \"+first+\" \"+last+\"! You just delved into python.\")\n",
    "    \n",
    "if __name__ == '__main__':\n",
    "    first_name = input()\n",
    "    last_name = input()\n",
    "    print_full_name(first_name, last_name)"
   ]
  },
  {
   "cell_type": "code",
   "execution_count": 7,
   "id": "retired-lighting",
   "metadata": {},
   "outputs": [
    {
     "name": "stdout",
     "output_type": "stream",
     "text": [
      "abracadabra\n",
      "5 k\n",
      "abrackdabra\n"
     ]
    }
   ],
   "source": [
    "# question 4\n",
    "\n",
    "def mutate_string(string, position, character):\n",
    "    return string[:position]+character+string[position+1:]\n",
    "\n",
    "if __name__ == '__main__':\n",
    "    s = input()\n",
    "    i, c = input().split()\n",
    "    s_new = mutate_string(s, int(i), c)\n",
    "    print(s_new)"
   ]
  },
  {
   "cell_type": "code",
   "execution_count": 8,
   "id": "desperate-cleaners",
   "metadata": {},
   "outputs": [
    {
     "name": "stdout",
     "output_type": "stream",
     "text": [
      "ABCDCDC \n",
      "CDC\n",
      "2\n"
     ]
    }
   ],
   "source": [
    "# question 5\n",
    "\n",
    "def count_substring(string, sub_string):\n",
    "    count = 0\n",
    "    for i in range(len(string)-len(sub_string)+1):\n",
    "        if (string[i:i+len(sub_string)] == sub_string):\n",
    "            count += 1\n",
    "    return count\n",
    "if __name__ == '__main__':\n",
    "    string = input().strip()\n",
    "    sub_string = input().strip()\n",
    "    \n",
    "    count = count_substring(string, sub_string)\n",
    "    print(count)"
   ]
  },
  {
   "cell_type": "code",
   "execution_count": 9,
   "id": "arbitrary-settle",
   "metadata": {},
   "outputs": [
    {
     "name": "stdout",
     "output_type": "stream",
     "text": [
      "qA2\n",
      "True\n",
      "True\n",
      "True\n",
      "True\n",
      "True\n"
     ]
    }
   ],
   "source": [
    "# QUESTION 6\n",
    "\n",
    "if __name__ == '__main__':\n",
    "    s = input()\n",
    "    print(any([i.isalnum() for i in s]))\n",
    "    print(any([i.isalpha() for i in s]))\n",
    "    print(any([i.isdigit() for i in s]))\n",
    "    print(any([i.islower() for i in s]))\n",
    "    print(any([i.isupper() for i in s]))"
   ]
  },
  {
   "cell_type": "code",
   "execution_count": 10,
   "id": "looking-concrete",
   "metadata": {},
   "outputs": [
    {
     "name": "stdout",
     "output_type": "stream",
     "text": [
      "5\n",
      "    H    \n",
      "   HHH   \n",
      "  HHHHH  \n",
      " HHHHHHH \n",
      "HHHHHHHHH\n",
      "  HHHHH               HHHHH             \n",
      "  HHHHH               HHHHH             \n",
      "  HHHHH               HHHHH             \n",
      "  HHHHH               HHHHH             \n",
      "  HHHHH               HHHHH             \n",
      "  HHHHH               HHHHH             \n",
      "  HHHHHHHHHHHHHHHHHHHHHHHHH   \n",
      "  HHHHHHHHHHHHHHHHHHHHHHHHH   \n",
      "  HHHHHHHHHHHHHHHHHHHHHHHHH   \n",
      "  HHHHH               HHHHH             \n",
      "  HHHHH               HHHHH             \n",
      "  HHHHH               HHHHH             \n",
      "  HHHHH               HHHHH             \n",
      "  HHHHH               HHHHH             \n",
      "  HHHHH               HHHHH             \n",
      "                    HHHHHHHHH \n",
      "                     HHHHHHH  \n",
      "                      HHHHH   \n",
      "                       HHH    \n",
      "                        H     \n"
     ]
    }
   ],
   "source": [
    "# question 7\n",
    "\n",
    "\n",
    "thickness = int(input()) #This must be an odd number\n",
    "c = 'H'\n",
    "\n",
    "#Top Cone\n",
    "for i in range(thickness):\n",
    "    print((c*i).rjust(thickness-1)+c+(c*i).ljust(thickness-1))\n",
    "\n",
    "#Top Pillars\n",
    "for i in range(thickness+1):\n",
    "    print((c*thickness).center(thickness*2)+(c*thickness).center(thickness*6))\n",
    "\n",
    "#Middle Belt\n",
    "for i in range((thickness+1)//2):\n",
    "    print((c*thickness*5).center(thickness*6))    \n",
    "\n",
    "#Bottom Pillars\n",
    "for i in range(thickness+1):\n",
    "    print((c*thickness).center(thickness*2)+(c*thickness).center(thickness*6))    \n",
    "\n",
    "#Bottom Cone\n",
    "for i in range(thickness):\n",
    "    print(((c*(thickness-i-1)).rjust(thickness)+c+(c*(thickness-i-1)).ljust(thickness)).rjust(thickness*6))"
   ]
  },
  {
   "cell_type": "code",
   "execution_count": 12,
   "id": "abandoned-backup",
   "metadata": {},
   "outputs": [
    {
     "name": "stdout",
     "output_type": "stream",
     "text": [
      "ABCDEFGHIJKLIMNOQRSTUVWXYZ \n",
      "4\n",
      "ABCD\n",
      "EFGH\n",
      "IJKL\n",
      "IMNO\n",
      "QRST\n",
      "UVWX\n",
      "YZ\n"
     ]
    }
   ],
   "source": [
    "# question 8\n",
    "\n",
    "import textwrap\n",
    "\n",
    "def wrap(string, max_width):\n",
    "    return textwrap.fill(string,max_width)\n",
    "\n",
    "if __name__ == '__main__':\n",
    "    string, max_width = input(), int(input())\n",
    "    result = wrap(string, max_width)\n",
    "    print(result)"
   ]
  },
  {
   "cell_type": "code",
   "execution_count": 13,
   "id": "stopped-swiss",
   "metadata": {},
   "outputs": [
    {
     "name": "stdout",
     "output_type": "stream",
     "text": [
      "9 27\n",
      "------------.|.------------\n",
      "---------.|..|..|.---------\n",
      "------.|..|..|..|..|.------\n",
      "---.|..|..|..|..|..|..|.---\n",
      "----------WELCOME----------\n",
      "---.|..|..|..|..|..|..|.---\n",
      "------.|..|..|..|..|.------\n",
      "---------.|..|..|.---------\n",
      "------------.|.------------\n"
     ]
    }
   ],
   "source": [
    "# QUESTION 9\n",
    "\n",
    "rows,columns = map(int,input().split())\n",
    "middle = rows//2+1\n",
    "for i in range(1,middle):\n",
    "    center = (i*2-1)*\".|.\" \n",
    "    print(center.center(columns,\"-\"))\n",
    "print(\"WELCOME\".center(columns,\"-\"))\n",
    "for i in reversed(range(1,middle)):\n",
    "    center = (i*2-1)*\".|.\"\n",
    "    print(center.center(columns,\"-\"))"
   ]
  },
  {
   "cell_type": "code",
   "execution_count": 14,
   "id": "decent-privacy",
   "metadata": {},
   "outputs": [
    {
     "name": "stdout",
     "output_type": "stream",
     "text": [
      "17\n",
      "    1     1     1     1\n",
      "    2     2     2    10\n",
      "    3     3     3    11\n",
      "    4     4     4   100\n",
      "    5     5     5   101\n",
      "    6     6     6   110\n",
      "    7     7     7   111\n",
      "    8    10     8  1000\n",
      "    9    11     9  1001\n",
      "   10    12     A  1010\n",
      "   11    13     B  1011\n",
      "   12    14     C  1100\n",
      "   13    15     D  1101\n",
      "   14    16     E  1110\n",
      "   15    17     F  1111\n",
      "   16    20    10 10000\n",
      "   17    21    11 10001\n"
     ]
    }
   ],
   "source": [
    "# question 10\n",
    "\n",
    "def print_formatted(number):\n",
    "    # your code goes here\n",
    "    binn = bin(n).replace(\"0b\",\"\")\n",
    "    for i in range(1,number+1):\n",
    "        deci = str(i)\n",
    "        deci = (len(binn)-len(deci))*\" \"+deci\n",
    "        \n",
    "        octa = oct(i).replace(\"0o\",\"\")\n",
    "        octa = (len(binn)-len(octa))*\" \"+octa\n",
    "        \n",
    "        hexi = hex(i).replace(\"0x\",\"\").upper()\n",
    "        hexi = (len(binn)-len(hexi))*\" \"+hexi\n",
    "        \n",
    "        bina = bin(i).replace(\"0b\",\"\")\n",
    "        bina = (len(binn)-len(bina))*\" \"+bina\n",
    "        print(deci,octa,hexi,bina)\n",
    "\n",
    "if __name__ == '__main__':\n",
    "    n = int(input())\n",
    "    print_formatted(n)"
   ]
  },
  {
   "cell_type": "code",
   "execution_count": 18,
   "id": "utility-finnish",
   "metadata": {},
   "outputs": [
    {
     "name": "stdout",
     "output_type": "stream",
     "text": [
      "5\n",
      "--------------------------------q--------------------------------\n",
      "------------------------------q-p-q------------------------------\n",
      "----------------------------q-p-o-p-q----------------------------\n",
      "--------------------------q-p-o-n-o-p-q--------------------------\n",
      "------------------------q-p-o-n-m-n-o-p-q------------------------\n",
      "----------------------q-p-o-n-m-l-m-n-o-p-q----------------------\n",
      "--------------------q-p-o-n-m-l-k-l-m-n-o-p-q--------------------\n",
      "------------------q-p-o-n-m-l-k-j-k-l-m-n-o-p-q------------------\n",
      "----------------q-p-o-n-m-l-k-j-i-j-k-l-m-n-o-p-q----------------\n",
      "--------------q-p-o-n-m-l-k-j-i-h-i-j-k-l-m-n-o-p-q--------------\n",
      "------------q-p-o-n-m-l-k-j-i-h-g-h-i-j-k-l-m-n-o-p-q------------\n",
      "----------q-p-o-n-m-l-k-j-i-h-g-f-g-h-i-j-k-l-m-n-o-p-q----------\n",
      "--------q-p-o-n-m-l-k-j-i-h-g-f-e-f-g-h-i-j-k-l-m-n-o-p-q--------\n",
      "------q-p-o-n-m-l-k-j-i-h-g-f-e-d-e-f-g-h-i-j-k-l-m-n-o-p-q------\n",
      "----q-p-o-n-m-l-k-j-i-h-g-f-e-d-c-d-e-f-g-h-i-j-k-l-m-n-o-p-q----\n",
      "--q-p-o-n-m-l-k-j-i-h-g-f-e-d-c-b-c-d-e-f-g-h-i-j-k-l-m-n-o-p-q--\n",
      "q-p-o-n-m-l-k-j-i-h-g-f-e-d-c-b-a-b-c-d-e-f-g-h-i-j-k-l-m-n-o-p-q\n",
      "--q-p-o-n-m-l-k-j-i-h-g-f-e-d-c-b-c-d-e-f-g-h-i-j-k-l-m-n-o-p-q--\n",
      "----q-p-o-n-m-l-k-j-i-h-g-f-e-d-c-d-e-f-g-h-i-j-k-l-m-n-o-p-q----\n",
      "------q-p-o-n-m-l-k-j-i-h-g-f-e-d-e-f-g-h-i-j-k-l-m-n-o-p-q------\n",
      "--------q-p-o-n-m-l-k-j-i-h-g-f-e-f-g-h-i-j-k-l-m-n-o-p-q--------\n",
      "----------q-p-o-n-m-l-k-j-i-h-g-f-g-h-i-j-k-l-m-n-o-p-q----------\n",
      "------------q-p-o-n-m-l-k-j-i-h-g-h-i-j-k-l-m-n-o-p-q------------\n",
      "--------------q-p-o-n-m-l-k-j-i-h-i-j-k-l-m-n-o-p-q--------------\n",
      "----------------q-p-o-n-m-l-k-j-i-j-k-l-m-n-o-p-q----------------\n",
      "------------------q-p-o-n-m-l-k-j-k-l-m-n-o-p-q------------------\n",
      "--------------------q-p-o-n-m-l-k-l-m-n-o-p-q--------------------\n",
      "----------------------q-p-o-n-m-l-m-n-o-p-q----------------------\n",
      "------------------------q-p-o-n-m-n-o-p-q------------------------\n",
      "--------------------------q-p-o-n-o-p-q--------------------------\n",
      "----------------------------q-p-o-p-q----------------------------\n",
      "------------------------------q-p-q------------------------------\n",
      "--------------------------------q--------------------------------\n"
     ]
    }
   ],
   "source": [
    "# question 11\n",
    "\n",
    "def print_rangoli(size):\n",
    "    # your code goes here\n",
    "    import string\n",
    "    alphabet = string.ascii_lowercase\n",
    "    rows = (size*2) - 1\n",
    "    width = (rows*2) - 1\n",
    "    s = alphabet[:size]\n",
    "    for i in range(1, size+1):\n",
    "        r = s[::-1][:i]\n",
    "        print('-'.join(r+r[:i-1][::-1]).center(width, '-'))\n",
    "\n",
    "    for i in range(size-1, 0, -1):\n",
    "        r = s[::-1][:i]\n",
    "        print('-'.join(r+r[:i-1][::-1]).center(width, '-'))\n",
    "if __name__ == '__main__':\n",
    "     int(input())\n",
    "     print_rangoli(n)"
   ]
  },
  {
   "cell_type": "code",
   "execution_count": 1,
   "id": "vanilla-earth",
   "metadata": {},
   "outputs": [
    {
     "ename": "KeyError",
     "evalue": "'OUTPUT_PATH'",
     "output_type": "error",
     "traceback": [
      "\u001b[1;31m---------------------------------------------------------------------------\u001b[0m",
      "\u001b[1;31mKeyError\u001b[0m                                  Traceback (most recent call last)",
      "\u001b[1;32m<ipython-input-1-833ef9d25ec7>\u001b[0m in \u001b[0;36m<module>\u001b[1;34m\u001b[0m\n\u001b[0;32m     16\u001b[0m \u001b[1;32mif\u001b[0m \u001b[0m__name__\u001b[0m \u001b[1;33m==\u001b[0m \u001b[1;34m'__main__'\u001b[0m\u001b[1;33m:\u001b[0m\u001b[1;33m\u001b[0m\u001b[1;33m\u001b[0m\u001b[0m\n\u001b[0;32m     17\u001b[0m \u001b[1;33m\u001b[0m\u001b[0m\n\u001b[1;32m---> 18\u001b[1;33m     \u001b[0mfptr\u001b[0m \u001b[1;33m=\u001b[0m \u001b[0mopen\u001b[0m\u001b[1;33m(\u001b[0m\u001b[0mos\u001b[0m\u001b[1;33m.\u001b[0m\u001b[0menviron\u001b[0m\u001b[1;33m[\u001b[0m\u001b[1;34m'OUTPUT_PATH'\u001b[0m\u001b[1;33m]\u001b[0m\u001b[1;33m,\u001b[0m \u001b[1;34m'w'\u001b[0m\u001b[1;33m)\u001b[0m\u001b[1;33m\u001b[0m\u001b[1;33m\u001b[0m\u001b[0m\n\u001b[0m\u001b[0;32m     19\u001b[0m \u001b[1;33m\u001b[0m\u001b[0m\n\u001b[0;32m     20\u001b[0m     \u001b[0ms\u001b[0m \u001b[1;33m=\u001b[0m \u001b[0minput\u001b[0m\u001b[1;33m(\u001b[0m\u001b[1;33m)\u001b[0m\u001b[1;33m\u001b[0m\u001b[1;33m\u001b[0m\u001b[0m\n",
      "\u001b[1;32mc:\\users\\awesomeakbar\\appdata\\local\\programs\\python\\python39\\lib\\os.py\u001b[0m in \u001b[0;36m__getitem__\u001b[1;34m(self, key)\u001b[0m\n\u001b[0;32m    677\u001b[0m         \u001b[1;32mexcept\u001b[0m \u001b[0mKeyError\u001b[0m\u001b[1;33m:\u001b[0m\u001b[1;33m\u001b[0m\u001b[1;33m\u001b[0m\u001b[0m\n\u001b[0;32m    678\u001b[0m             \u001b[1;31m# raise KeyError with the original key value\u001b[0m\u001b[1;33m\u001b[0m\u001b[1;33m\u001b[0m\u001b[1;33m\u001b[0m\u001b[0m\n\u001b[1;32m--> 679\u001b[1;33m             \u001b[1;32mraise\u001b[0m \u001b[0mKeyError\u001b[0m\u001b[1;33m(\u001b[0m\u001b[0mkey\u001b[0m\u001b[1;33m)\u001b[0m \u001b[1;32mfrom\u001b[0m \u001b[1;32mNone\u001b[0m\u001b[1;33m\u001b[0m\u001b[1;33m\u001b[0m\u001b[0m\n\u001b[0m\u001b[0;32m    680\u001b[0m         \u001b[1;32mreturn\u001b[0m \u001b[0mself\u001b[0m\u001b[1;33m.\u001b[0m\u001b[0mdecodevalue\u001b[0m\u001b[1;33m(\u001b[0m\u001b[0mvalue\u001b[0m\u001b[1;33m)\u001b[0m\u001b[1;33m\u001b[0m\u001b[1;33m\u001b[0m\u001b[0m\n\u001b[0;32m    681\u001b[0m \u001b[1;33m\u001b[0m\u001b[0m\n",
      "\u001b[1;31mKeyError\u001b[0m: 'OUTPUT_PATH'"
     ]
    }
   ],
   "source": [
    "# QUESTION 12\n",
    "\n",
    "import math\n",
    "import os\n",
    "import random\n",
    "import re\n",
    "import sys\n",
    "\n",
    "# Complete the solve function below.\n",
    "def solve(s):\n",
    "    words = s.split(\" \")\n",
    "    capitalized_words = [w.capitalize() for w in words]\n",
    "    return \" \".join(capitalized_words)\n",
    "\n",
    "\n",
    "if __name__ == '__main__':\n",
    "   \n",
    "    fptr = open(os.environ['OUTPUT_PATH'], 'w')\n",
    "\n",
    "    s = input()\n",
    "\n",
    "    result = solve(s)\n",
    "\n",
    "    fptr.write(result + '\\n')\n",
    "\n",
    "    fptr.close()\n",
    "\n"
   ]
  },
  {
   "cell_type": "code",
   "execution_count": 7,
   "id": "failing-compensation",
   "metadata": {},
   "outputs": [
    {
     "name": "stdout",
     "output_type": "stream",
     "text": [
      "BANANA\n",
      "Stuart 12\n"
     ]
    }
   ],
   "source": [
    "# question 13\n",
    "\n",
    "def minion_game(string):\n",
    "    # your code goes here\n",
    "    scores = {\"Kevin\": 0, \"Stuart\": 0}\n",
    "    for i in range(len(string)):\n",
    "        if string[i] in \"AEIOU\":\n",
    "            scores[\"Kevin\"]+=len(string)-i\n",
    "        else:\n",
    "            scores[\"Stuart\"]+=len(string)-i\n",
    "    if scores[\"Stuart\"] == scores[\"Kevin\"]:\n",
    "        print(\"Draw\")\n",
    "    elif scores[\"Stuart\"] > scores[\"Kevin\"]:\n",
    "        print(\"%s %s\" %(\"Stuart\", scores[\"Stuart\"]))\n",
    "    else:\n",
    "        print(\"%s %s\" %(\"Kevin\", scores[\"Kevin\"]))\n",
    "if __name__ == '__main__':\n",
    "    s = input()\n",
    "    minion_game(s)"
   ]
  },
  {
   "cell_type": "code",
   "execution_count": 8,
   "id": "comic-shareware",
   "metadata": {},
   "outputs": [
    {
     "name": "stdout",
     "output_type": "stream",
     "text": [
      "AABCAAADA\n",
      "3\n",
      "AB\n",
      "CA\n",
      "AD\n"
     ]
    }
   ],
   "source": [
    "# QUESTION 14\n",
    "\n",
    "def merge_the_tools(string, k):\n",
    "    # your code goes here\n",
    "    m=0\n",
    "    res=[]\n",
    "    for i in range(k,len(string) + 1, k):\n",
    "        l=list(string[m:i])\n",
    "        m += k\n",
    "        for o in l:\n",
    "            if o not in res:\n",
    "                res.append(o)\n",
    "        for j in res:\n",
    "            print(j,end=\"\")\n",
    "        res.clear()\n",
    "        print()\n",
    "if __name__ == '__main__':\n",
    "    string, k = input(), int(input())\n",
    "    merge_the_tools(string, k)"
   ]
  },
  {
   "cell_type": "code",
   "execution_count": null,
   "id": "specialized-sheffield",
   "metadata": {},
   "outputs": [],
   "source": []
  }
 ],
 "metadata": {
  "kernelspec": {
   "display_name": "Python 3",
   "language": "python",
   "name": "python3"
  },
  "language_info": {
   "codemirror_mode": {
    "name": "ipython",
    "version": 3
   },
   "file_extension": ".py",
   "mimetype": "text/x-python",
   "name": "python",
   "nbconvert_exporter": "python",
   "pygments_lexer": "ipython3",
   "version": "3.9.1"
  }
 },
 "nbformat": 4,
 "nbformat_minor": 5
}
