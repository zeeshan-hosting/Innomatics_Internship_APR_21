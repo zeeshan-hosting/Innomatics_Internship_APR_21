{
 "cells": [
  {
   "cell_type": "code",
   "execution_count": 1,
   "id": "cognitive-industry",
   "metadata": {},
   "outputs": [],
   "source": [
    "import matplotlib.pyplot as plt\n",
    "import numpy as np\n",
    "from scipy.stats import norm\n",
    "from scipy.stats import t"
   ]
  },
  {
   "cell_type": "code",
   "execution_count": 2,
   "id": "seventh-importance",
   "metadata": {},
   "outputs": [],
   "source": [
    "#z_score for sampling distributions\n",
    "\n",
    "def t_score(sample_size, sample_mean, pop_mean, sample_std):\n",
    "    numerator = sample_mean - pop_mean\n",
    "    denomenator = sample_std / sample_size**0.5\n",
    "    return numerator / denomenator"
   ]
  },
  {
   "cell_type": "markdown",
   "id": "historic-apache",
   "metadata": {},
   "source": [
    "# Understanding hypothesis testing...."
   ]
  },
  {
   "cell_type": "markdown",
   "id": "regulated-basis",
   "metadata": {},
   "source": [
    "Step - 1:  \n",
    "Alternate Hypothesis (Bold claim): $ H_1 \\Rightarrow >, <, \\neq  $  \n",
    "Null Hypothesis (Status Quo): $ H_0 \\Rightarrow \\leq, \\geq, = $\n",
    "\n",
    "Step - 2:  \n",
    "* Collect a sample of size n\n",
    "* Compute the mean from this sample $ \\bar{x} $\n",
    "\n",
    "Step - 3:\n",
    "Compute Test Statistic:  \n",
    "* If population variance is known $$ z = \\frac{\\bar{x} - \\mu}{\\sigma/\\sqrt[2]{n}}$$\n",
    "\n",
    "* If population variance is unknown $$ t = \\frac{\\bar{x} - \\mu}{s/\\sqrt[2]{n}} $$\n",
    "\n",
    "Step - 4:\n",
    "Decide significance level $ \\alpha $\n",
    "\n",
    "Step - 5.1: Apply decision rule:\n",
    "* If test statistic is z-score -\n",
    "    * Two tailed z-test: $$ |z| > z_\\frac{\\alpha}{2} \\Rightarrow Accept H_1 \\ or \\ Reject H_0$$\n",
    "    * Right tailed z-test: $$ z > z_\\alpha \\Rightarrow Accept H_1 \\ or \\ Reject H_0 $$\n",
    "    * Left tailed z-test: $$ z < -z_\\alpha \\Rightarrow Accept H_1 \\ or \\ Reject H_0 $$\n",
    "    \n",
    "* If test statistic is t-score\n",
    "    * Two tailed t-test: $$ |t| > t_{n-1,\\frac{\\alpha}{2}} \\Rightarrow Accept H_1 \\ or \\ Reject H_0 $$\n",
    "    * Right tailed t-test: $$ t > t_{n-1,\\alpha} \\Rightarrow Accept H_1 \\ or \\ Reject H_0 $$\n",
    "    * Left tailed t-test: $$ t < t_{n-1,\\alpha} \\Rightarrow Accept H_1 \\ or \\ Reject H_0 $$\n",
    "\n",
    "Step - 5.2: Compute p-value $ P(Test \\ Statistics | H_0) $\n",
    "* For two tailed test: $$ p \\ value = 2 * (1.0 - cdf(test \\ statistic)) $$\n",
    "* For one tailed test: $$ p \\ value = (1.0 - cdf(test \\ statistic)) $$\n",
    "Now, $$ if (p \\ value < \\alpha) \\Rightarrow Accept H_1 \\ or \\ Reject H_0 $$"
   ]
  },
  {
   "cell_type": "markdown",
   "id": "found-defendant",
   "metadata": {},
   "source": [
    "# question 1) \n",
    "## Pista House selling Hyderabadi Chicken Dum biryani claims that each parcel packet has 500 grams of biryani (also mentioned on the label of packet). You are sceptic of their claims and believe that on average each packet does not contain 500 grams of biryani. How do you prove your claim? "
   ]
  },
  {
   "cell_type": "markdown",
   "id": "harmful-domain",
   "metadata": {},
   "source": [
    "Step - 1:  \n",
    "Alternate Hypothesis (Bold claim): $$ H_1: \\mu \\neq 500 $$\n",
    "Null Hypothesis (Status Quo): $$ H_0: \\mu = 500 $$\n",
    "\n",
    "Step - 2:  \n",
    "* Collect a sample of size n = 10 $$ [490, 220, 470, 500, 495, 496, 496, 498, 508, 480] $$\n",
    "* Compute sample mean $$ \\bar{x} = 465.3 $$\n",
    "\n",
    "Step - 3:\n",
    "Compute Test Statistic: $$ t-score= \\frac{\\bar{x} - \\mu}{S/\\sqrt[2]{n}}$$\n",
    "\n",
    "Step - 4:\n",
    "Decide $ \\alpha $ = 0.05\n",
    "\n",
    "Step-5:\n",
    "calculate degrees of freedom   \n",
    "$ n-1=10-1=9 $\n",
    "\n",
    "Step-6: \n",
    "state decision rule( if t_critical is less than tscore or greater than t-score )\n",
    "\n",
    "Step-7:\n",
    "conclusion ( either accepting or rejecting null hypothesis)\n",
    "\n",
    "\n"
   ]
  },
  {
   "cell_type": "code",
   "execution_count": 3,
   "id": "proved-underwear",
   "metadata": {},
   "outputs": [
    {
     "data": {
      "text/plain": [
       "465.3"
      ]
     },
     "execution_count": 3,
     "metadata": {},
     "output_type": "execute_result"
    }
   ],
   "source": [
    "l = [490,220,470,500,495,496,496,498,508,480]\n",
    "\n",
    "mean=sum(l)/len(l)\n",
    "mean"
   ]
  },
  {
   "cell_type": "markdown",
   "id": "forty-liberia",
   "metadata": {},
   "source": [
    "# calculating sample standard deviation\n",
    "\n"
   ]
  },
  {
   "cell_type": "code",
   "execution_count": 4,
   "id": "short-private",
   "metadata": {},
   "outputs": [],
   "source": [
    "import math\n",
    "length=len(l)"
   ]
  },
  {
   "cell_type": "code",
   "execution_count": 5,
   "id": "prescription-carolina",
   "metadata": {},
   "outputs": [],
   "source": [
    "def stand_dev(values):\n",
    "    total_sum=0\n",
    "    for i in range(length):\n",
    "        total_sum +=(values[i]-mean)**2\n",
    "        under_root=(total_sum)/(length-1)\n",
    "    return math.sqrt(under_root)\n",
    "        "
   ]
  },
  {
   "cell_type": "code",
   "execution_count": 6,
   "id": "expired-shape",
   "metadata": {},
   "outputs": [
    {
     "name": "stdout",
     "output_type": "stream",
     "text": [
      " the sample standard deviation    S=86.84859110991827\n"
     ]
    }
   ],
   "source": [
    "sample_std_dev=stand_dev(l)\n",
    "print(\" the sample standard deviation    S={}\".format(sample_std_dev))"
   ]
  },
  {
   "cell_type": "code",
   "execution_count": 8,
   "id": "caring-regulation",
   "metadata": {},
   "outputs": [
    {
     "name": "stdout",
     "output_type": "stream",
     "text": [
      "2.2621571627409915\n"
     ]
    }
   ],
   "source": [
    "# two_tail calculating t-critical value:\n",
    "\n",
    "from scipy.stats import t\n",
    "alpha = 1 - 0.95\n",
    "\n",
    "t_critical = t.ppf(1-alpha/2, df = 9)   # degree of freedom (df)=9\n",
    "\n",
    "print(t_critical)"
   ]
  },
  {
   "cell_type": "code",
   "execution_count": 9,
   "id": "behind-administration",
   "metadata": {},
   "outputs": [],
   "source": [
    "# collected parameters are:\n",
    "sample_size=10\n",
    "sample_mean=465.3\n",
    "pop_mean=500\n",
    "sample_std=86.85"
   ]
  },
  {
   "cell_type": "code",
   "execution_count": 10,
   "id": "sticky-syracuse",
   "metadata": {},
   "outputs": [
    {
     "name": "stdout",
     "output_type": "stream",
     "text": [
      "-1.2634546322146545\n"
     ]
    }
   ],
   "source": [
    "# Calculating the t-score\n",
    "\n",
    "t = t_score(sample_size, sample_mean, pop_mean, sample_std)\n",
    "\n",
    "print(t)"
   ]
  },
  {
   "cell_type": "code",
   "execution_count": 11,
   "id": "confused-bobby",
   "metadata": {},
   "outputs": [
    {
     "name": "stdout",
     "output_type": "stream",
     "text": [
      "Fail to reject Null Hypothesis\n"
     ]
    }
   ],
   "source": [
    "# Conclusion using t-test\n",
    "\n",
    "if(np.abs(t) > t_critical):\n",
    "    print(\"Reject Null Hypothesis\")\n",
    "else:\n",
    "    print(\"Fail to reject Null Hypothesis\")"
   ]
  },
  {
   "cell_type": "code",
   "execution_count": 12,
   "id": "administrative-consultation",
   "metadata": {},
   "outputs": [
    {
     "data": {
      "text/plain": [
       "Text(465.3, 0.0007, 'x_bar')"
      ]
     },
     "execution_count": 12,
     "metadata": {},
     "output_type": "execute_result"
    },
    {
     "data": {
      "image/png": "[encoded data removed]",
      "text/plain": [
       "<Figure size 432x288 with 1 Axes>"
      ]
     },
     "metadata": {
      "needs_background": "light"
     },
     "output_type": "display_data"
    }
   ],
   "source": [
    "# Ploting the sampling distribution with rejection regions\n",
    "\n",
    "# Defining the x minimum and x maximum\n",
    "x_min = 400\n",
    "x_max = 600\n",
    "\n",
    "\n",
    "# Defining the sampling distribution mean and sampling distribution std\n",
    "mean = pop_mean\n",
    "std = sample_std / sample_size**0.5\n",
    "\n",
    "# Ploting the graph and setting the x limits\n",
    "x = np.linspace(x_min, x_max, 100)\n",
    "y = norm.pdf(x, mean, std)\n",
    "plt.xlim(x_min, x_max)\n",
    "plt.plot(x, y)\n",
    "\n",
    "\n",
    "# Computing the left and right critical values (Two tailed Test)\n",
    "t_critical_left = pop_mean + (-t_critical * std)\n",
    "t_critical_right = pop_mean + (t_critical * std)\n",
    "\n",
    "# Shading the left rejection region\n",
    "x1 = np.linspace(x_min, t_critical_left, 100)\n",
    "y1 = norm.pdf(x1, mean, std)\n",
    "plt.fill_between(x1, y1, color='orange')\n",
    "\n",
    "# Shading the left rejection region\n",
    "x1 = np.linspace(x_min, t_critical_left, 100)\n",
    "y1 = norm.pdf(x1, mean, std)\n",
    "plt.fill_between(x1, y1, color='orange')\n",
    "\n",
    "# Shading the right rejection region\n",
    "x1 = np.linspace(t_critical_right, x_max, 100)\n",
    "y1 = norm.pdf(x1, mean, std)\n",
    "plt.fill_between(x1, y1, color='orange')\n",
    "\n",
    "# Ploting the sample mean and concluding the results \n",
    "plt.scatter(sample_mean, 0)\n",
    "plt.annotate(\"x_bar\", (sample_mean, 0.0007))\n",
    "\n",
    "\n",
    "\n"
   ]
  },
  {
   "cell_type": "markdown",
   "id": "skilled-florist",
   "metadata": {},
   "source": [
    "# Q-2: You have developed a new Natural Language Processing Algorithms and done a user study. You claim that the average rating given by the users is greater than 4 on a scale of 1 to 5. How do you prove this to your client?"
   ]
  },
  {
   "cell_type": "markdown",
   "id": "fresh-grocery",
   "metadata": {},
   "source": [
    "\n",
    "Step - 1:  \n",
    "Alternate Hypothesis (Bold Claim): $$ H_1: \\mu > 4 $$\n",
    "Null Hypothesis (Status Quo): $$ H_0: \\mu \\leq 4 $$\n",
    "\n",
    "Step - 2:  \n",
    "* Collect a sample of size n = 20 $$ [4, 3, 5, 4, 5, 3, 5, 5, 4, 2, 4, 5, 5, 4, 4, 5, 4, 5, 4, 5] $$\n",
    "* Compute sample mean $$ \\bar{x} = 4.25 $$\n",
    "\n",
    "Step - 3:\n",
    "Compute Test Statistic: $$ t-score = \\frac{\\bar{x} - \\mu}{\\S/\\sqrt[2]{n}}$$\n",
    "\n",
    "Step - 4:\n",
    "Decide $ \\alpha $ =1-0.95=0.05\n",
    "\n",
    "Step - 5.1: Right tailed t-test: $$ reject H_0 if t-score > t-critical ? $$\n",
    "\n",
    "Step - 5.2:\n",
    "calculate degrees of freedom   \n",
    "$ n-1=20-1=19 $\n",
    "\n",
    "Step-6: \n",
    "state decision rule( if t_critical is less than tscore or greater than t-score ,will reject the null hypothesis\n",
    "\n",
    "Step-7:\n",
    "conclusion ( either accepting or rejecting null hypothesis)\n",
    "\n"
   ]
  },
  {
   "cell_type": "code",
   "execution_count": 24,
   "id": "precious-rehabilitation",
   "metadata": {},
   "outputs": [
    {
     "name": "stdout",
     "output_type": "stream",
     "text": [
      "4.25\n"
     ]
    }
   ],
   "source": [
    "l2=[4,3,5,4,5,3,5,5,4,2,4,5,5,4,4,5,4,5,4,5]\n",
    "print(sum(l2)/len(l2))"
   ]
  },
  {
   "cell_type": "code",
   "execution_count": 35,
   "id": "patient-replication",
   "metadata": {},
   "outputs": [],
   "source": [
    "sample_mean2=4.25"
   ]
  },
  {
   "cell_type": "code",
   "execution_count": 36,
   "id": "trained-emperor",
   "metadata": {},
   "outputs": [],
   "source": [
    "length2=len(l2)"
   ]
  },
  {
   "cell_type": "code",
   "execution_count": 38,
   "id": "pharmaceutical-sunrise",
   "metadata": {},
   "outputs": [],
   "source": [
    "def stand_dev(values):\n",
    "    total_sum=0\n",
    "    for i in range(length2):\n",
    "        total_sum +=(values[i]-sample_mean2)**2\n",
    "        under_root=(total_sum)/(length2-1)\n",
    "    return math.sqrt(under_root)\n",
    "        "
   ]
  },
  {
   "cell_type": "code",
   "execution_count": 39,
   "id": "centered-jenny",
   "metadata": {},
   "outputs": [
    {
     "name": "stdout",
     "output_type": "stream",
     "text": [
      " the sample standard deviation    S=0.8506963092234007\n"
     ]
    }
   ],
   "source": [
    "sample_std_dev2=stand_dev(l2)\n",
    "print(\" the sample standard deviation    S={}\".format(sample_std_dev2))"
   ]
  },
  {
   "cell_type": "code",
   "execution_count": 33,
   "id": "peripheral-census",
   "metadata": {},
   "outputs": [],
   "source": [
    "from scipy.stats import t"
   ]
  },
  {
   "cell_type": "code",
   "execution_count": 45,
   "id": "actual-capacity",
   "metadata": {},
   "outputs": [
    {
     "name": "stdout",
     "output_type": "stream",
     "text": [
      "1.729132811521367\n"
     ]
    }
   ],
   "source": [
    "# One tail (calculating t-critical)\n",
    "\n",
    "alpha = 1 - 0.95\n",
    "\n",
    "t_critical= t.ppf(1-alpha, df = 19)\n",
    "\n",
    "print(t_critical2)"
   ]
  },
  {
   "cell_type": "code",
   "execution_count": 48,
   "id": "studied-recognition",
   "metadata": {},
   "outputs": [],
   "source": [
    "# collected parameters are:\n",
    "sample_size=20\n",
    "sample_mean=4.25\n",
    "pop_mean=4\n",
    "sample_std=0.85069"
   ]
  },
  {
   "cell_type": "code",
   "execution_count": 50,
   "id": "developed-concrete",
   "metadata": {},
   "outputs": [
    {
     "name": "stdout",
     "output_type": "stream",
     "text": [
      "1.3142672286613162\n"
     ]
    }
   ],
   "source": [
    "# Calculating the t-score\n",
    "\n",
    "t2= t_score(sample_size, sample_mean, pop_mean, sample_std)\n",
    "\n",
    "print(t2)"
   ]
  },
  {
   "cell_type": "code",
   "execution_count": 51,
   "id": "encouraging-support",
   "metadata": {},
   "outputs": [
    {
     "name": "stdout",
     "output_type": "stream",
     "text": [
      "Fail to reject Null Hypothesis\n"
     ]
    }
   ],
   "source": [
    "# Conclusion using t-test\n",
    "\n",
    "if(np.abs(t2) > t_critical2):\n",
    "    print(\"Reject Null Hypothesis\")\n",
    "else:\n",
    "    print(\"Fail to reject Null Hypothesis\")"
   ]
  },
  {
   "cell_type": "code",
   "execution_count": 53,
   "id": "reported-jumping",
   "metadata": {},
   "outputs": [
    {
     "data": {
      "text/plain": [
       "Text(4.25, 0.1, 'x_bar')"
      ]
     },
     "execution_count": 53,
     "metadata": {},
     "output_type": "execute_result"
    },
    {
     "data": {
      "image/png": "[encoded data removed]",
      "text/plain": [
       "<Figure size 432x288 with 1 Axes>"
      ]
     },
     "metadata": {
      "needs_background": "light"
     },
     "output_type": "display_data"
    }
   ],
   "source": [
    "# Ploting the sampling distribution with rejection regions\n",
    "\n",
    "# Defining the x minimum and x maximum\n",
    "x_min = 3.5\n",
    "x_max = 4.5\n",
    "\n",
    "\n",
    "# Defining the sampling distribution mean and sampling distribution std\n",
    "mean = pop_mean\n",
    "std = sample_std / (sample_size**0.5)\n",
    "\n",
    "\n",
    "# Ploting the graph and setting the x limits\n",
    "x = np.linspace(x_min, x_max, 100)\n",
    "y = norm.pdf(x, mean, std)\n",
    "plt.xlim(x_min, x_max)\n",
    "plt.plot(x, y)\n",
    "\n",
    "\n",
    "# Computing the right critical value (Right tailed Test)\n",
    "t_critical_right = pop_mean + (t_critical2 * std)\n",
    "\n",
    "\n",
    "# Shading the right rejection region\n",
    "x1 = np.linspace(t_critical_right, x_max, 100)\n",
    "y1 = norm.pdf(x1, mean, std)\n",
    "plt.fill_between(x1, y1, color='red')\n",
    "\n",
    "\n",
    "# Ploting the sample mean and concluding the results \n",
    "plt.scatter(sample_mean, 0)\n",
    "plt.annotate(\"x_bar\", (sample_mean, 0.1))\n",
    "\n",
    "# In this case sample mean does not fall on rejection region\n",
    "# i.e. Fail to Reject the Null Hypothesis"
   ]
  },
  {
   "cell_type": "markdown",
   "id": "divine-person",
   "metadata": {},
   "source": [
    "# Q-3: TATA has developed a better fuel management system for the SUV segment. They claim that with this system, on average the SUV's mileage is at least 15 km/litre?"
   ]
  },
  {
   "cell_type": "markdown",
   "id": "answering-andorra",
   "metadata": {},
   "source": [
    "\n",
    "Step - 1:  \n",
    "Alternate Hypothesis (Bold Claim): $$ H_1: \\mu >15? $$\n",
    "Null Hypothesis (Status Quo): $$ H_0:   \\mu \\leq 15 ? $$\n",
    "\n",
    "Step - 2:  \n",
    "* Collect a sample of size n = 20 $$ [14.08, 14.13, 15.65, 13.78, 16.26, 14.97, 15.36, 15.81, 14.53, 16.79, 15.78, 16.98, 13.23, 15.43, 15.46, 13.88, 14.31, 14.41, 15.76, 15.38] $$\n",
    "* Compute sample mean $$ \\bar{x} = 15.1 $$\n",
    "\n",
    "Step - 3:\n",
    "Compute Test Statistic: $$ t-score= \\frac{\\bar{x} - \\mu}{\\S/\\sqrt[2]{n}}$$\n",
    "\n",
    "Step - 4:\n",
    "Decide $ \\alpha=1-0.95=0.05 $\n",
    "\n",
    "Step - 5.2: calculate degrees of freedom\n",
    "𝑛−1=20−1=19 \n",
    "\n",
    "Step-6: state decision rule( if t_critical is less than tscore or greater than t-score)\n",
    "\n",
    "Step-7: conclusion ( either accepting or rejecting null hypothesis)"
   ]
  },
  {
   "cell_type": "code",
   "execution_count": 62,
   "id": "indirect-version",
   "metadata": {},
   "outputs": [],
   "source": [
    "l=[14.08,14.13,15.65,13.78,16.26,14.97,15.36,15.81,14.53,16.79,15.78,16.98,13.23,15.43,15.46,13.88,14.31,14.41,15.76,15.38]\n",
    "sample_mean=sum(l)/len(l)"
   ]
  },
  {
   "cell_type": "code",
   "execution_count": 63,
   "id": "cooperative-shift",
   "metadata": {},
   "outputs": [
    {
     "data": {
      "text/plain": [
       "15.098999999999998"
      ]
     },
     "execution_count": 63,
     "metadata": {},
     "output_type": "execute_result"
    }
   ],
   "source": [
    "sample_mean"
   ]
  },
  {
   "cell_type": "code",
   "execution_count": 64,
   "id": "significant-procurement",
   "metadata": {},
   "outputs": [],
   "source": [
    "length=len(l)"
   ]
  },
  {
   "cell_type": "code",
   "execution_count": 65,
   "id": "regional-colonial",
   "metadata": {},
   "outputs": [],
   "source": [
    "def stand_dev(values):\n",
    "    total_sum=0\n",
    "    for i in range(length):\n",
    "        total_sum +=(values[i]-sample_mean)**2\n",
    "        under_root=(total_sum)/(length-1)\n",
    "    return math.sqrt(under_root)"
   ]
  },
  {
   "cell_type": "code",
   "execution_count": 67,
   "id": "higher-warner",
   "metadata": {},
   "outputs": [
    {
     "name": "stdout",
     "output_type": "stream",
     "text": [
      " the sample standard deviation    S=1.0253671999517255\n"
     ]
    }
   ],
   "source": [
    "sample_std=stand_dev(l)\n",
    "print(\" the sample standard deviation    S={}\".format(sample_std))"
   ]
  },
  {
   "cell_type": "code",
   "execution_count": 68,
   "id": "subsequent-better",
   "metadata": {},
   "outputs": [],
   "source": [
    "from scipy.stats import t"
   ]
  },
  {
   "cell_type": "code",
   "execution_count": 69,
   "id": "wireless-animation",
   "metadata": {},
   "outputs": [
    {
     "name": "stdout",
     "output_type": "stream",
     "text": [
      "1.729132811521367\n"
     ]
    }
   ],
   "source": [
    "#  right One tail (calculating t-critical)\n",
    "\n",
    "alpha = 1 - 0.95\n",
    "\n",
    "t_critical= t.ppf(1-alpha, df = 19)\n",
    "\n",
    "print(t_critical2)"
   ]
  },
  {
   "cell_type": "code",
   "execution_count": 70,
   "id": "understanding-anime",
   "metadata": {},
   "outputs": [],
   "source": [
    "# collected parameters are:\n",
    "sample_size=20\n",
    "sample_mean=15.1\n",
    "pop_mean=15\n",
    "sample_std=1.025"
   ]
  },
  {
   "cell_type": "code",
   "execution_count": 72,
   "id": "inner-phenomenon",
   "metadata": {},
   "outputs": [
    {
     "name": "stdout",
     "output_type": "stream",
     "text": [
      "0.4363059468292258\n"
     ]
    }
   ],
   "source": [
    "# Calculating the t-score\n",
    "\n",
    "t= t_score(sample_size, sample_mean, pop_mean, sample_std)\n",
    "\n",
    "print(t2)"
   ]
  },
  {
   "cell_type": "code",
   "execution_count": 73,
   "id": "happy-paper",
   "metadata": {},
   "outputs": [
    {
     "name": "stdout",
     "output_type": "stream",
     "text": [
      "Fail to reject Null Hypothesis\n"
     ]
    }
   ],
   "source": [
    "# Conclusion using t-test\n",
    "\n",
    "if(np.abs(t2) > t_critical2):\n",
    "    print(\"Reject Null Hypothesis\")\n",
    "else:\n",
    "    print(\"Fail to reject Null Hypothesis\")"
   ]
  },
  {
   "cell_type": "code",
   "execution_count": 74,
   "id": "static-allah",
   "metadata": {},
   "outputs": [
    {
     "data": {
      "text/plain": [
       "Text(15.1, 0.1, 'x_bar')"
      ]
     },
     "execution_count": 74,
     "metadata": {},
     "output_type": "execute_result"
    },
    {
     "data": {
      "image/png": "[encoded data removed]",
      "text/plain": [
       "<Figure size 432x288 with 1 Axes>"
      ]
     },
     "metadata": {
      "needs_background": "light"
     },
     "output_type": "display_data"
    }
   ],
   "source": [
    "# Ploting the sampling distribution with rejection regions\n",
    "\n",
    "# Defining the x minimum and x maximum\n",
    "x_min = 13\n",
    "x_max = 17\n",
    "\n",
    "\n",
    "# Defining the sampling distribution mean and sampling distribution std\n",
    "mean = pop_mean\n",
    "std = sample_std / (sample_size**0.5)\n",
    "\n",
    "\n",
    "# Ploting the graph and setting the x limits\n",
    "x = np.linspace(x_min, x_max, 100)\n",
    "y = norm.pdf(x, mean, std)\n",
    "plt.xlim(x_min, x_max)\n",
    "plt.plot(x, y)\n",
    "\n",
    "\n",
    "# Computing the right critical value (Right tailed Test)\n",
    "t_critical_right = pop_mean + (t_critical * std)\n",
    "\n",
    "\n",
    "# Shading the right rejection region\n",
    "x1 = np.linspace(t_critical_right, x_max, 100)\n",
    "y1 = norm.pdf(x1, mean, std)\n",
    "plt.fill_between(x1, y1, color='pink')\n",
    "\n",
    "\n",
    "# Ploting the sample mean and concluding the results \n",
    "plt.scatter(sample_mean, 0)\n",
    "plt.annotate(\"x_bar\", (sample_mean, 0.1))\n",
    "\n",
    "# In this case sample mean does not fall on rejection region\n",
    "# i.e. Fail to Reject the Null Hypothesis"
   ]
  },
  {
   "cell_type": "markdown",
   "id": "julian-venture",
   "metadata": {},
   "source": [
    " # Q-4) You have developed a new Machine Learning Application and claim that on average it takes less than 100 ms to predict for any future datapoint. How do you convince your client about this claim?  (take sample std dev=7)"
   ]
  },
  {
   "cell_type": "markdown",
   "id": "oriental-arabic",
   "metadata": {},
   "source": [
    "Step - 1:  \n",
    "Alternate Hypothesis (Bold Claim): $$ H_1: \\mu <100 ? $$\n",
    "Null Hypothesis (Status Quo): $$ H_0: \\geq 100 $$\n",
    "\n",
    "Step - 2:  \n",
    "*  n = 100\n",
    "* Compute sample mean $$ \\bar{x} = 97.5 $$\n",
    "\n",
    "Step - 3:\n",
    "Compute Test Statistic: $$ t-score= \\frac{\\bar{x} - \\mu}{\\S/\\sqrt[2]{n}}$$   # S=7\n",
    "\n",
    "Step - 4:\n",
    "Decide $ \\alpha $ = 1-0.95=0.05\n",
    "\n",
    "Step - 5.2: calculate degrees of freedom\n",
    "𝑛−1=100−1=99 \n",
    "\n",
    "Step-6: state decision rule( if t_critical is less than tscore or greater than t-score)\n",
    "\n",
    "Step-7: conclusion ( either accepting or rejecting null hypothesis)\n"
   ]
  },
  {
   "cell_type": "code",
   "execution_count": 79,
   "id": "deluxe-venezuela",
   "metadata": {},
   "outputs": [],
   "source": [
    "from scipy.stats import t"
   ]
  },
  {
   "cell_type": "code",
   "execution_count": 80,
   "id": "raising-knitting",
   "metadata": {},
   "outputs": [],
   "source": [
    "sample_mean=97.5\n",
    "sample_std=7\n",
    "pop_mean=100\n",
    "sample_size=100"
   ]
  },
  {
   "cell_type": "code",
   "execution_count": 81,
   "id": "grave-quarter",
   "metadata": {},
   "outputs": [
    {
     "name": "stdout",
     "output_type": "stream",
     "text": [
      "1.6603911559963895\n"
     ]
    }
   ],
   "source": [
    " #left One tail (calculating t-critical)\n",
    "\n",
    "alpha = 1 - 0.95\n",
    "\n",
    "t_critical= t.ppf(1-alpha, df = 99)\n",
    "\n",
    "print(t_critical)"
   ]
  },
  {
   "cell_type": "code",
   "execution_count": 82,
   "id": "general-webmaster",
   "metadata": {},
   "outputs": [
    {
     "name": "stdout",
     "output_type": "stream",
     "text": [
      "-3.5714285714285716\n"
     ]
    }
   ],
   "source": [
    "# Calculating the t-score\n",
    "\n",
    "t= t_score(sample_size, sample_mean, pop_mean, sample_std)\n",
    "\n",
    "print(t)"
   ]
  },
  {
   "cell_type": "code",
   "execution_count": 83,
   "id": "metric-bottom",
   "metadata": {},
   "outputs": [
    {
     "name": "stdout",
     "output_type": "stream",
     "text": [
      "Reject Null Hypothesis\n"
     ]
    }
   ],
   "source": [
    "# Conclusion using t-test\n",
    "\n",
    "if(np.abs(t) > t_critical):\n",
    "    print(\"Reject Null Hypothesis\")\n",
    "else:\n",
    "    print(\"Fail to reject Null Hypothesis\")"
   ]
  },
  {
   "cell_type": "code",
   "execution_count": 84,
   "id": "understanding-pendant",
   "metadata": {},
   "outputs": [
    {
     "data": {
      "text/plain": [
       "Text(97.5, 0.02, 'x_bar')"
      ]
     },
     "execution_count": 84,
     "metadata": {},
     "output_type": "execute_result"
    },
    {
     "data": {
      "image/png": "[encoded data removed]",
      "text/plain": [
       "<Figure size 432x288 with 1 Axes>"
      ]
     },
     "metadata": {
      "needs_background": "light"
     },
     "output_type": "display_data"
    }
   ],
   "source": [
    "x_min = 95\n",
    "x_max = 105\n",
    "\n",
    "mean = pop_mean\n",
    "std = sample_std / (sample_size**0.5)\n",
    "\n",
    "x = np.linspace(x_min, x_max, 100)\n",
    "y = norm.pdf(x, mean, std)\n",
    "\n",
    "plt.xlim(x_min, x_max)\n",
    "plt.plot(x, y)\n",
    "\n",
    "t_critical_left = pop_mean + (-t_critical * std)\n",
    "\n",
    "x1 = np.linspace(x_min, t_critical_left, 100)\n",
    "y1 = norm.pdf(x1, mean, std)\n",
    "plt.fill_between(x1, y1, color='green')\n",
    "\n",
    "plt.scatter(sample_mean, 0)\n",
    "plt.annotate(\"x_bar\", (sample_mean, 0.02))"
   ]
  },
  {
   "cell_type": "code",
   "execution_count": null,
   "id": "sensitive-miami",
   "metadata": {},
   "outputs": [],
   "source": [
    "# In this case sample mean falls in the rejection region\n",
    "\n",
    "# i.e. Reject Null Hypothesis"
   ]
  }
 ],
 "metadata": {
  "kernelspec": {
   "display_name": "Python 3",
   "language": "python",
   "name": "python3"
  },
  "language_info": {
   "codemirror_mode": {
    "name": "ipython",
    "version": 3
   },
   "file_extension": ".py",
   "mimetype": "text/x-python",
   "name": "python",
   "nbconvert_exporter": "python",
   "pygments_lexer": "ipython3",
   "version": "3.9.1"
  }
 },
 "nbformat": 4,
 "nbformat_minor": 5
}
