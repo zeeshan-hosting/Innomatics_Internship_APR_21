{
 "cells": [
  {
   "cell_type": "code",
   "execution_count": 1,
   "id": "multiple-remainder",
   "metadata": {},
   "outputs": [
    {
     "name": "stdout",
     "output_type": "stream",
     "text": [
      "2\n",
      "1\n",
      "3\n",
      "6\n",
      "[[0, 0, 0], [0, 0, 1], [0, 0, 2], [0, 0, 3], [0, 1, 0], [0, 1, 1], [0, 1, 2], [0, 1, 3], [1, 0, 0], [1, 0, 1], [1, 0, 2], [1, 0, 3], [1, 1, 0], [1, 1, 1], [1, 1, 2], [1, 1, 3], [2, 0, 0], [2, 0, 1], [2, 0, 2], [2, 0, 3], [2, 1, 0], [2, 1, 1], [2, 1, 2]]\n"
     ]
    }
   ],
   "source": [
    "# question1\n",
    "\n",
    "if __name__ == '__main__':\n",
    "    x = int(input())\n",
    "    y = int(input())\n",
    "    z = int(input())\n",
    "    n = int(input())\n",
    "    \n",
    "listxyz = []\n",
    "for i in range(x + 1):\n",
    "    for j in range (y + 1):\n",
    "        for k in range (z + 1):\n",
    "            if i + j + k != n: \n",
    "                listxyz.append([i,j,k])\n",
    "print(listxyz)"
   ]
  },
  {
   "cell_type": "code",
   "execution_count": 3,
   "id": "right-advertiser",
   "metadata": {},
   "outputs": [
    {
     "name": "stdout",
     "output_type": "stream",
     "text": [
      "5\n",
      "25 15 20 14 25\n",
      "20\n"
     ]
    }
   ],
   "source": [
    "# question 2\n",
    "\n",
    "if __name__ == '__main__':\n",
    "    n = int(input())\n",
    "    arr = list(map(int,input().split()))\n",
    "    arr.sort()\n",
    "    print(arr[(arr.index(max(arr)))-1])\n"
   ]
  },
  {
   "cell_type": "code",
   "execution_count": 5,
   "id": "hungarian-weekend",
   "metadata": {},
   "outputs": [
    {
     "name": "stdout",
     "output_type": "stream",
     "text": [
      "5\n",
      "harry\n",
      "37.21\n",
      "berry\n",
      "37.21\n",
      "tina\n",
      "37.2\n",
      "akriti\n",
      "41\n",
      "harsh\n",
      "39\n",
      "berry\n",
      "harry\n"
     ]
    }
   ],
   "source": [
    "# question 3\n",
    "\n",
    "score_sheet=[]\n",
    "mark_sheet=[]\n",
    "if __name__ == '__main__':\n",
    "    for _ in range(int(input())):\n",
    "        name = input()\n",
    "        score = float(input())\n",
    "        mark_sheet+=[[name,score]]\n",
    "        score_sheet+=[score]\n",
    "    x=sorted(set(score_sheet))[1]\n",
    "    for s,a in sorted(mark_sheet):\n",
    "        if a==x:\n",
    "            print(s)"
   ]
  },
  {
   "cell_type": "code",
   "execution_count": 7,
   "id": "twenty-aerospace",
   "metadata": {},
   "outputs": [
    {
     "name": "stdout",
     "output_type": "stream",
     "text": [
      "2\n",
      "harsh 25 26 27\n",
      "satish 24 55 54\n",
      "harsh\n",
      "26.00\n"
     ]
    }
   ],
   "source": [
    "# question 4\n",
    "\n",
    "if __name__ == '__main__':\n",
    "    n = int(input())\n",
    "    student_marks = {}\n",
    "    for _ in range(n):\n",
    "        name, *line = input().split()\n",
    "        scores = list(map(float, line))\n",
    "        student_marks[name] = scores\n",
    "    query_name = input()\n",
    "    sum=0\n",
    "    for i in student_marks[query_name]:\n",
    "        sum=sum+i\n",
    "    print(\"{0:.2f}\".format(sum/3))"
   ]
  },
  {
   "cell_type": "code",
   "execution_count": 9,
   "id": "listed-native",
   "metadata": {},
   "outputs": [
    {
     "name": "stdout",
     "output_type": "stream",
     "text": [
      "12\n",
      "insert 0 5\n",
      "insert 1 10\n",
      "insert 0 6\n",
      "print\n",
      "[6, 5, 10]\n",
      "remove 6\n",
      "append 9\n",
      "append 1\n",
      "sort\n",
      "print\n",
      "[1, 5, 9, 10]\n",
      "pop\n",
      "reverse\n",
      "print\n",
      "[9, 5, 1]\n"
     ]
    }
   ],
   "source": [
    "# question 5\n",
    "\n",
    "if __name__ == '__main__':\n",
    "    N = int(input())\n",
    "    arr=[]\n",
    "    for i in range(N):\n",
    "        a=input().split()\n",
    "        for i in range(1,len(a)):\n",
    "            a[i]=int(a[i])\n",
    "        if a[0]==\"append\":\n",
    "            arr.append(a[1])\n",
    "        elif a[0]==\"insert\":\n",
    "            arr.insert(a[1],a[2])\n",
    "        elif a[0]==\"remove\":\n",
    "            arr.remove(a[1])\n",
    "        elif a[0]==\"pop\":\n",
    "            arr.pop()\n",
    "        elif a[0]==\"sort\":\n",
    "            arr.sort()\n",
    "        elif a[0] ==\"reverse\":\n",
    "            arr.reverse()\n",
    "        elif a[0]==\"print\":\n",
    "            print(arr)\n",
    "\n",
    "    "
   ]
  },
  {
   "cell_type": "code",
   "execution_count": 15,
   "id": "macro-style",
   "metadata": {
    "scrolled": true
   },
   "outputs": [
    {
     "name": "stdout",
     "output_type": "stream",
     "text": [
      "2\n",
      "1 2\n",
      "-3550055125485641917\n"
     ]
    }
   ],
   "source": [
    "# question 6\n",
    "\n",
    "if __name__ == '__main__':\n",
    "    n = int(input())\n",
    "    integer_list = map(int, input().split())\n",
    "    t=tuple(integer_list)\n",
    "    print(hash(t))\n"
   ]
  },
  {
   "cell_type": "code",
   "execution_count": 8,
   "id": "developing-forwarding",
   "metadata": {},
   "outputs": [
    {
     "name": "stdout",
     "output_type": "stream",
     "text": [
      "10\n",
      "161 182 161 154 176 170 167 171 170 174\n",
      "169.375\n"
     ]
    }
   ],
   "source": [
    "# question7\n",
    "\n",
    "\n",
    "def average(array):\n",
    "    \n",
    "    heights = set(array)\n",
    "    averg = sum(heights) / len(heights)\n",
    "    return averg\n",
    "\n",
    "if __name__ == '__main__':\n",
    "    n = int(input())\n",
    "    arr = list(map(int, input().split()))\n",
    "    result = average(arr)\n",
    "    print(result)"
   ]
  },
  {
   "cell_type": "code",
   "execution_count": 6,
   "id": "incorporated-forth",
   "metadata": {},
   "outputs": [
    {
     "name": "stdout",
     "output_type": "stream",
     "text": [
      "3 2\n",
      "1 5 3\n",
      "3 1\n",
      "5 7\n",
      "1\n"
     ]
    }
   ],
   "source": [
    "# question 8\n",
    "\n",
    "_ = input()\n",
    "array = input().split()\n",
    "like = set(input().split())\n",
    "dislike = set(input().split())\n",
    "print(sum((i in like) - (i in dislike) for i in array))"
   ]
  },
  {
   "cell_type": "code",
   "execution_count": 1,
   "id": "convenient-patch",
   "metadata": {},
   "outputs": [
    {
     "name": "stdout",
     "output_type": "stream",
     "text": [
      "4\n",
      "2 4 5 9\n",
      "4\n",
      "2 4 11 12\n",
      "5\n",
      "9\n",
      "11\n",
      "12\n"
     ]
    }
   ],
   "source": [
    "# question 9\n",
    "\n",
    "# Enter your code here. Read input from STDIN. Print output to STDOUT\n",
    "A,N=(int(input()),input().split())\n",
    "C,M=(int(input()),input().split())\n",
    "X=set(N)\n",
    "Y=set(M)\n",
    "P=X.difference(Y)\n",
    "Q=Y.difference(X)\n",
    "R=P.union(Q)\n",
    "print(\"\\n\".join(sorted(R,key=int)))"
   ]
  },
  {
   "cell_type": "code",
   "execution_count": 4,
   "id": "handled-difference",
   "metadata": {},
   "outputs": [
    {
     "name": "stdout",
     "output_type": "stream",
     "text": [
      "7\n",
      "uk\n",
      "china\n",
      "usa\n",
      "france\n",
      "new zealand\n",
      "uk\n",
      "france\n",
      "5\n"
     ]
    }
   ],
   "source": [
    "# question 10\n",
    "\n",
    "N=int(input())                                  \n",
    "s=set()\n",
    "for i in range(N):\n",
    "    s.add(input())\n",
    "print(len(s))\n"
   ]
  },
  {
   "cell_type": "code",
   "execution_count": 7,
   "id": "computational-cigarette",
   "metadata": {},
   "outputs": [
    {
     "name": "stdout",
     "output_type": "stream",
     "text": [
      "9\n",
      "1 2 3 4 5 6 7 8 9\n",
      "10\n",
      "pop\n",
      "remove 9\n",
      "discard 9\n",
      "discard 8\n",
      "remove 7\n",
      "pop\n",
      "discard 6\n",
      "remove 5\n",
      "pop\n",
      "discard 5\n",
      "4\n"
     ]
    }
   ],
   "source": [
    "# question 11\n",
    "\n",
    "n = int(input())\n",
    "s = set(map(int, input().split()))\n",
    "for i in range(int(input())):\n",
    "    input_value=input()\n",
    "    if input_value==\"pop\":\n",
    "        s.pop()\n",
    "    else:\n",
    "        command,value=input_value.split()\n",
    "        if command==\"discard\":\n",
    "            s.discard(int(value))\n",
    "        else:\n",
    "            s.remove(int(value))\n",
    "print(sum(s))        \n"
   ]
  },
  {
   "cell_type": "code",
   "execution_count": 9,
   "id": "initial-dividend",
   "metadata": {},
   "outputs": [
    {
     "name": "stdout",
     "output_type": "stream",
     "text": [
      "9\n",
      "1 2 3 4 5 6 7 8 9\n",
      "9 \n",
      "10 1 2 3 11 21 55 6 8\n",
      "13\n"
     ]
    }
   ],
   "source": [
    "# question 12\n",
    "\n",
    "n=int(input())\n",
    "m=set(map(int,input().split()))\n",
    "N=int(input())\n",
    "M=set(map(int,input().split()))\n",
    "count=0\n",
    "A=m.union(M)\n",
    "for i in A:\n",
    "    count=count+1\n",
    "print(count)\n",
    "    "
   ]
  },
  {
   "cell_type": "code",
   "execution_count": 12,
   "id": "behavioral-computer",
   "metadata": {},
   "outputs": [
    {
     "name": "stdout",
     "output_type": "stream",
     "text": [
      "9 \n",
      "1 2 3 4 5 6 7 8 9\n",
      "9\n",
      "10 1 2 3 11 21 55 6 8\n",
      "5\n"
     ]
    }
   ],
   "source": [
    "# question 13\n",
    "\n",
    "n=int(input())\n",
    "m=set(map(int,input().split()))\n",
    "N=int(input())\n",
    "M=set(map(int,input().split()))\n",
    "count=0\n",
    "A=m.intersection(M)\n",
    "for i in A:\n",
    "    count=count+1\n",
    "print(count)\n"
   ]
  },
  {
   "cell_type": "code",
   "execution_count": 14,
   "id": "perfect-monte",
   "metadata": {},
   "outputs": [
    {
     "name": "stdout",
     "output_type": "stream",
     "text": [
      "9\n",
      "1 2 3 4 5 6 7 8 9\n",
      "9 \n",
      "10 1 2 3 11 21 55 6 8\n",
      "4\n"
     ]
    }
   ],
   "source": [
    "# question 14\n",
    "\n",
    "n=int(input())\n",
    "m=set(map(int,input().split()))\n",
    "N=int(input())\n",
    "M=set(map(int,input().split()))\n",
    "count=0\n",
    "A=m.difference(M)\n",
    "for i in A:\n",
    "    count=count+1\n",
    "print(count)\n"
   ]
  },
  {
   "cell_type": "code",
   "execution_count": 15,
   "id": "accessible-advancement",
   "metadata": {},
   "outputs": [
    {
     "name": "stdout",
     "output_type": "stream",
     "text": [
      "9\n",
      "1 2 3 4 5 6 7 8 9\n",
      "9 \n",
      "10 1 2 3 11 21 55 6 8\n",
      "8\n"
     ]
    }
   ],
   "source": [
    "# question 15\n",
    "\n",
    "n=int(input())\n",
    "m=set(map(int,input().split()))\n",
    "N=int(input())\n",
    "M=set(map(int,input().split()))\n",
    "count=0\n",
    "A=m.symmetric_difference(M)\n",
    "for i in A:\n",
    "    count=count+1\n",
    "print(count)\n"
   ]
  },
  {
   "cell_type": "code",
   "execution_count": 1,
   "id": "ranging-decimal",
   "metadata": {},
   "outputs": [
    {
     "name": "stdout",
     "output_type": "stream",
     "text": [
      "16\n",
      "1 2 3 4 5 6 7 8 9 10 11 12 13 14 24 52\n",
      "4\n",
      "intersection_update 10\n",
      " 2 3 5 6 8 9 1 4 7 11\n",
      "update 2\n",
      "55 66\n",
      "symmetric_difference_update 5\n",
      " 22 7 35 62 58\n",
      "difference_update 7\n",
      " 11 22 35 55 58 62 66\n",
      "38\n"
     ]
    }
   ],
   "source": [
    "# question 16\n",
    "\n",
    "if __name__ == '__main__':\n",
    "    (_, A) = (int(input()),set(map(int, input().split())))\n",
    "    B = int(input())\n",
    "    for _ in range(B):\n",
    "        (command, newSet) = (input().split()[0],set(map(int, input().split())))\n",
    "        getattr(A, command)(newSet)\n",
    "\n",
    "    print (sum(A))"
   ]
  },
  {
   "cell_type": "code",
   "execution_count": 2,
   "id": "retained-oriental",
   "metadata": {},
   "outputs": [
    {
     "name": "stdout",
     "output_type": "stream",
     "text": [
      "5\n",
      "1 2 3 6 5 4 4 2 5 3 6 1 6 5 3 2 4 1 2 5 1 4 3 6 8 4 3 1 5 6 2 \n",
      "8\n"
     ]
    }
   ],
   "source": [
    "# question 17\n",
    "\n",
    "K = int(input())\n",
    "rooms = input().split()\n",
    "\n",
    "rooms.sort()\n",
    "capt_room = (set(rooms[0::2]) ^ set(rooms[1::2]))\n",
    "print(capt_room.pop())"
   ]
  },
  {
   "cell_type": "code",
   "execution_count": 3,
   "id": "atmospheric-oriental",
   "metadata": {},
   "outputs": [
    {
     "name": "stdout",
     "output_type": "stream",
     "text": [
      "3\n",
      "5\n",
      "1 2 3 5 6\n",
      "9\n",
      "9 8 5 6 3 2 1 4 7\n",
      "True\n",
      "1\n",
      "2\n",
      "5\n",
      "3 6 5 4 1\n",
      "False\n",
      "7\n",
      "v\n",
      "3\n",
      "982\n",
      "False\n"
     ]
    }
   ],
   "source": [
    "# question 18\n",
    "\n",
    "for _ in range(int(input())):\n",
    "    x, a, z, b = input(), set(input().split()), input(), set(input().split())\n",
    "    print(a.issubset(b))"
   ]
  },
  {
   "cell_type": "code",
   "execution_count": 5,
   "id": "engaging-blind",
   "metadata": {},
   "outputs": [
    {
     "name": "stdout",
     "output_type": "stream",
     "text": [
      "1 2 3 4 5 6 7 8 9 10 11 12 23 45 84 78\n",
      "2\n",
      "1 2 3 4 5\n",
      "100 11 12\n",
      "False\n"
     ]
    }
   ],
   "source": [
    "# question 19\n",
    "def isstrictsuperset(a,b):\n",
    "    # true if a is a strict superset of b\n",
    "    return b.issubset(a) and not(a.issubset(b))\n",
    "\n",
    "a = set(int(x) for x in input().split(' '))\n",
    "n = int(input())\n",
    "res = True\n",
    "\n",
    "for _ in range(n):\n",
    "    b = set(int(x) for x in input().split(' '))\n",
    "    res &= isstrictsuperset(a,b)\n",
    "    \n",
    "print(res)"
   ]
  },
  {
   "cell_type": "code",
   "execution_count": null,
   "id": "dimensional-letter",
   "metadata": {},
   "outputs": [],
   "source": []
  }
 ],
 "metadata": {
  "kernelspec": {
   "display_name": "Python 3",
   "language": "python",
   "name": "python3"
  },
  "language_info": {
   "codemirror_mode": {
    "name": "ipython",
    "version": 3
   },
   "file_extension": ".py",
   "mimetype": "text/x-python",
   "name": "python",
   "nbconvert_exporter": "python",
   "pygments_lexer": "ipython3",
   "version": "3.9.1"
  }
 },
 "nbformat": 4,
 "nbformat_minor": 5
}
