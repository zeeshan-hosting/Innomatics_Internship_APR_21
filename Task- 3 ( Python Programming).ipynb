{
 "cells": [
  {
   "cell_type": "code",
   "execution_count": 1,
   "id": "discrete-domain",
   "metadata": {},
   "outputs": [
    {
     "name": "stdout",
     "output_type": "stream",
     "text": [
      "5\n",
      "1\n",
      "121\n",
      "12321\n",
      "1234321\n",
      "123454321\n"
     ]
    }
   ],
   "source": [
    "# question 1\n",
    "\n",
    "for i in range(1,int(input())+1): #More than 2 lines will result in 0 score. Do not leave a blank line also\n",
    "    print (((10**i)//9)**2)"
   ]
  },
  {
   "cell_type": "code",
   "execution_count": 2,
   "id": "dutch-harvey",
   "metadata": {},
   "outputs": [
    {
     "name": "stdout",
     "output_type": "stream",
     "text": [
      "1+2j\n",
      "2.23606797749979\n",
      "1.1071487177940904\n"
     ]
    }
   ],
   "source": [
    "# question 2\n",
    "\n",
    "import cmath\n",
    "a=complex(input().strip())\n",
    "values=cmath.polar(a)    #cmath.polar finds the distance and angle\n",
    "print(values[0])\n",
    "print(values[1])"
   ]
  },
  {
   "cell_type": "code",
   "execution_count": 3,
   "id": "double-mercy",
   "metadata": {},
   "outputs": [
    {
     "name": "stdout",
     "output_type": "stream",
     "text": [
      "10\n",
      "10\n",
      "45°\n"
     ]
    }
   ],
   "source": [
    "# question 3\n",
    "\n",
    "import math\n",
    "AB=float(input())\n",
    "BC=float(input())\n",
    "hyp=math.hypot(AB,BC)                      \n",
    "result=round(math.degrees(math.acos(BC/hyp)))  \n",
    "degree=chr(176)                                \n",
    "print(result,degree, sep='')\n"
   ]
  },
  {
   "cell_type": "code",
   "execution_count": 4,
   "id": "employed-stylus",
   "metadata": {},
   "outputs": [
    {
     "name": "stdout",
     "output_type": "stream",
     "text": [
      "177\n",
      "10\n",
      "17\n",
      "7\n",
      "(17, 7)\n"
     ]
    }
   ],
   "source": [
    "# question 4\n",
    "\n",
    "a=int(input())\n",
    "b=int(input())\n",
    "d=divmod(a,b)\n",
    "print(d[0])\n",
    "print(d[1])\n",
    "print(d)"
   ]
  },
  {
   "cell_type": "code",
   "execution_count": 5,
   "id": "fifth-election",
   "metadata": {},
   "outputs": [
    {
     "name": "stdout",
     "output_type": "stream",
     "text": [
      "3\n",
      "4\n",
      "5\n",
      "81\n",
      "1\n"
     ]
    }
   ],
   "source": [
    "# question 5\n",
    "\n",
    "a=int(input())\n",
    "b=int(input())\n",
    "m=int(input())\n",
    "print(pow(a,b))\n",
    "print(pow(a,b,m))"
   ]
  },
  {
   "cell_type": "code",
   "execution_count": 6,
   "id": "intermediate-rebecca",
   "metadata": {},
   "outputs": [
    {
     "name": "stdout",
     "output_type": "stream",
     "text": [
      "9\n",
      "29\n",
      "7\n",
      "27\n",
      "4710194409608608369201743232\n"
     ]
    }
   ],
   "source": [
    "# question 6\n",
    "\n",
    "a=int(input())\n",
    "b=int(input())\n",
    "c=int(input())\n",
    "d=int(input())\n",
    "result_1=pow(a,b)\n",
    "result_2=pow(c,d)\n",
    "print(result_1+result_2)"
   ]
  },
  {
   "cell_type": "code",
   "execution_count": 7,
   "id": "published-pontiac",
   "metadata": {},
   "outputs": [
    {
     "name": "stdout",
     "output_type": "stream",
     "text": [
      "5\n",
      "1\n",
      "22\n",
      "333\n",
      "4444\n"
     ]
    }
   ],
   "source": [
    "# question 7\n",
    "\n",
    "for i in range(1,int(input())): #More than 2 lines will result in 0 score. Do not leave a blank line also\n",
    "    print(round(pow(10,i)/9)*i)"
   ]
  },
  {
   "cell_type": "code",
   "execution_count": null,
   "id": "distant-pharmacology",
   "metadata": {},
   "outputs": [],
   "source": []
  }
 ],
 "metadata": {
  "kernelspec": {
   "display_name": "Python 3",
   "language": "python",
   "name": "python3"
  },
  "language_info": {
   "codemirror_mode": {
    "name": "ipython",
    "version": 3
   },
   "file_extension": ".py",
   "mimetype": "text/x-python",
   "name": "python",
   "nbconvert_exporter": "python",
   "pygments_lexer": "ipython3",
   "version": "3.9.1"
  }
 },
 "nbformat": 4,
 "nbformat_minor": 5
}
